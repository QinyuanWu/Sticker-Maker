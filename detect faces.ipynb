{
 "cells": [
  {
   "cell_type": "code",
   "execution_count": null,
   "metadata": {},
   "outputs": [],
   "source": []
  },
  {
   "cell_type": "code",
   "execution_count": 1,
   "metadata": {},
   "outputs": [],
   "source": [
    "from PIL import Image, ExifTags\n",
    "\n",
    "try:\n",
    "    image=Image.open('test.jpg')\n",
    "    for orientation in ExifTags.TAGS.keys():\n",
    "        if ExifTags.TAGS[orientation]=='Orientation':\n",
    "            break\n",
    "    exif=dict(image._getexif().items())\n",
    "\n",
    "    if exif[orientation] == 3:\n",
    "        image=image.rotate(180, expand=True)\n",
    "    elif exif[orientation] == 6:\n",
    "        image=image.rotate(270, expand=True)\n",
    "    elif exif[orientation] == 8:\n",
    "        image=image.rotate(90, expand=True)\n",
    "    image.save('test.jpg')\n",
    "    image.close()\n",
    "\n",
    "except (AttributeError, KeyError, IndexError):\n",
    "    # cases: image don't have getexif\n",
    "    pass\n",
    "\n",
    "import dlib\n",
    "from PIL import Image, ImageDraw\n",
    "from skimage import io\n",
    "import matplotlib.pyplot as plt\n",
    "\n",
    "\n",
    "def detect_faces(image):\n",
    "\n",
    "    # Create a face detector\n",
    "    face_detector = dlib.get_frontal_face_detector()\n",
    "\n",
    "    # Run detector and get bounding boxes of the faces on image.\n",
    "    detected_faces = face_detector(image, 1)\n",
    "    face_frames = [(x.left(), x.top(),\n",
    "                    x.right(), x.bottom()) for x in detected_faces]\n",
    "\n",
    "    return face_frames\n",
    "\n",
    "# Load image\n",
    "img_path = 'test.jpg'\n",
    "image = io.imread(img_path)\n",
    "\n",
    "# Detect faces\n",
    "detected_faces = detect_faces(image)\n",
    "\n",
    "\n"
   ]
  },
  {
   "cell_type": "code",
   "execution_count": 2,
   "metadata": {},
   "outputs": [],
   "source": [
    "#pillow\n",
    "# num=1\n",
    "img = Image.open(\"test.jpg\") \n",
    "\n",
    "images = []\n",
    "for x in range(len(detected_faces)):\n",
    "    newimg = img.crop(detected_faces[x])\n",
    "    images.append(newimg)\n",
    "#     newimg.save(\"cropped_picture{}.jpg\".format(num))  \n",
    "#     num+=1  "
   ]
  },
  {
   "cell_type": "code",
   "execution_count": 3,
   "metadata": {},
   "outputs": [],
   "source": [
    "# print(\"Number of faces detected: {}\".format(len(detected_faces)))\n",
    "# # Crop faces and plot\n",
    "# def plotface(detected_faces):\n",
    "#     for n, face_rect in enumerate(detected_faces):\n",
    "#         face = Image.fromarray(image).crop(face_rect)\n",
    "#         plt.subplot(1, len(detected_faces), n+1)\n",
    "#         plt.axis('off')\n",
    "#         plt.imshow(face)\n",
    "        \n",
    "# plotface(detected_faces)\n"
   ]
  },
  {
   "cell_type": "code",
   "execution_count": 4,
   "metadata": {},
   "outputs": [],
   "source": [
    "import glob\n",
    "from PIL import Image\n",
    "\n",
    "# images=glob.glob(\"*.jpg\")\n",
    "# print(images)\n",
    "# img = Image.open(images[1])\n",
    "# img = img.resize((700, 700))\n",
    "# draw = ImageDraw.Draw(img)\n",
    "# font = ImageFont.truetype('Pillow/Tests/fonts/FreeMono.ttf', size=70)\n",
    "# W, H = img.size\n",
    "# msg = \"ASS WE CAN\"\n",
    "# w, h = draw.textsize(msg)\n",
    "# color = 'rgb(255, 255, 255)' # white color\n",
    "# draw.text(((W-w)/3,(H-h)/1.2), msg, fill=color, font=font)\n",
    "# img.save(\"newfolder\\\\\"+image)\n",
    "\n",
    "def xpos (charlen):\n",
    "    ans=(700-fsize(charlen)*charlen)/2\n",
    "    return ans\n",
    "def fsize (charlen):\n",
    "    if charlen<=9:\n",
    "        return 70\n",
    "    else:\n",
    "        ans=700/(charlen+1)\n",
    "        return int(ans)"
   ]
  },
  {
   "cell_type": "code",
   "execution_count": 5,
   "metadata": {},
   "outputs": [
    {
     "name": "stderr",
     "output_type": "stream",
     "text": [
      "Using TensorFlow backend.\n"
     ]
    }
   ],
   "source": [
    "from keras.models import load_model\n",
    "from PIL import Image \n",
    "import numpy as np"
   ]
  },
  {
   "cell_type": "code",
   "execution_count": 6,
   "metadata": {},
   "outputs": [
    {
     "name": "stdout",
     "output_type": "stream",
     "text": [
      "WARNING:tensorflow:From /anaconda3/lib/python3.7/site-packages/tensorflow/python/framework/op_def_library.py:263: colocate_with (from tensorflow.python.framework.ops) is deprecated and will be removed in a future version.\n",
      "Instructions for updating:\n",
      "Colocations handled automatically by placer.\n",
      "WARNING:tensorflow:From /anaconda3/lib/python3.7/site-packages/keras/backend/tensorflow_backend.py:3445: calling dropout (from tensorflow.python.ops.nn_ops) with keep_prob is deprecated and will be removed in a future version.\n",
      "Instructions for updating:\n",
      "Please use `rate` instead of `keep_prob`. Rate should be set to `rate = 1 - keep_prob`.\n",
      "WARNING:tensorflow:From /anaconda3/lib/python3.7/site-packages/tensorflow/python/ops/math_ops.py:3066: to_int32 (from tensorflow.python.ops.math_ops) is deprecated and will be removed in a future version.\n",
      "Instructions for updating:\n",
      "Use tf.cast instead.\n"
     ]
    }
   ],
   "source": [
    "model = load_model('model.h5')\n",
    "# model.predict(processimg(img))\n",
    "\n",
    "def processimg(image):\n",
    "    image=image.resize((48,48))\n",
    "    image=image.convert('L')\n",
    "    image=np.array(image)\n",
    "    image=image.astype(np.float32)\n",
    "    image=image.reshape((1,48,48,1))\n",
    "    return image\n",
    "\n",
    "# pre=[]\n",
    "# for image in images:\n",
    "#     img = Image.open(image)\n",
    "#     prob=(model.predict_on_batch(processimg(img)))\n",
    "#     index=np.argmax(prob)\n",
    "#     pre.append(index)\n",
    "# print(pre)\n"
   ]
  },
  {
   "cell_type": "code",
   "execution_count": 7,
   "metadata": {},
   "outputs": [],
   "source": [
    "# from PIL import Image \n",
    "# image_file = Image.open(\"cropped_picture1.jpg\") # open colour image\n",
    "\n",
    "# image_file = image_file.convert('L') # convert image to black and white\n",
    "# # image_file = image_file.resize((48,48))\n",
    "# image=np.array(image_file)\n",
    "# print(image.shape)\n",
    "# # print(image)\n",
    "# # image_file.save('result.png')"
   ]
  },
  {
   "cell_type": "code",
   "execution_count": 8,
   "metadata": {},
   "outputs": [],
   "source": [
    "import pandas as pd"
   ]
  },
  {
   "cell_type": "code",
   "execution_count": 9,
   "metadata": {},
   "outputs": [],
   "source": [
    "words=pd.read_csv('words.csv')\n",
    "angry=np.array(words['0'])\n",
    "disgust=np.array(words['1'])\n",
    "fear=np.array(words['2'])\n",
    "happy=np.array(words['3'])\n",
    "sad=np.array(words['4'])\n",
    "surprise=np.array(words['5'])\n",
    "neutral=np.array(words['6'])"
   ]
  },
  {
   "cell_type": "code",
   "execution_count": 10,
   "metadata": {},
   "outputs": [],
   "source": [
    "mooddict={0:angry, 1:disgust, 2:fear, 3:happy, 4:sad, 5:surprise, 6:neutral}"
   ]
  },
  {
   "cell_type": "code",
   "execution_count": 16,
   "metadata": {},
   "outputs": [],
   "source": [
    "from PIL import Image, ImageDraw, ImageFont\n",
    "num=1\n",
    "for image in images:\n",
    "    img = image\n",
    "    img = img.resize((700, 700))\n",
    "    draw = ImageDraw.Draw(img)\n",
    "    prob=(model.predict_on_batch(processimg(img)))\n",
    "    index=np.argmax(prob)\n",
    "    msg=np.random.choice(mooddict[index])\n",
    "    font = ImageFont.truetype('./STHeiti Medium.ttc', size=fsize(len(msg)))\n",
    "    color = 'rgb(255, 255, 255)' # white color\n",
    "    draw.text((xpos(len(msg)), 600), msg, fill=color, font=font)\n",
    "    img.save('output{}.jpg'.format(num)) \n",
    "    num+=1"
   ]
  },
  {
   "cell_type": "code",
   "execution_count": null,
   "metadata": {},
   "outputs": [],
   "source": []
  }
 ],
 "metadata": {
  "kernelspec": {
   "display_name": "Python 3",
   "language": "python",
   "name": "python3"
  },
  "language_info": {
   "codemirror_mode": {
    "name": "ipython",
    "version": 3
   },
   "file_extension": ".py",
   "mimetype": "text/x-python",
   "name": "python",
   "nbconvert_exporter": "python",
   "pygments_lexer": "ipython3",
   "version": "3.7.3"
  }
 },
 "nbformat": 4,
 "nbformat_minor": 2
}
